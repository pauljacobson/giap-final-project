{
 "cells": [
  {
   "cell_type": "code",
   "execution_count": 6,
   "metadata": {},
   "outputs": [
    {
     "name": "stdout",
     "output_type": "stream",
     "text": [
      "/Users/pauljacobson/Git/Learn_to_code/google-it-automation-python/Automating Real-World Tasks/Week_04/tests\n",
      "/Users/pauljacobson/.vscode/extensions/ms-toolsai.jupyter-2022.5.1001601848/pythonFiles\n",
      "/Users/pauljacobson/.vscode/extensions/ms-toolsai.jupyter-2022.5.1001601848/pythonFiles/lib/python\n",
      "/opt/miniconda3/lib/python39.zip\n",
      "/opt/miniconda3/lib/python3.9\n",
      "/opt/miniconda3/lib/python3.9/lib-dynload\n",
      "\n",
      "/Users/pauljacobson/.local/lib/python3.9/site-packages\n",
      "/opt/miniconda3/lib/python3.9/site-packages\n",
      "..\n",
      "../src/\n",
      "../src/\n",
      "..\n"
     ]
    }
   ],
   "source": [
    "import sys\n",
    "\n",
    "\n",
    "for x in sys.path:\n",
    "    print(x)\n"
   ]
  },
  {
   "cell_type": "code",
   "execution_count": 6,
   "metadata": {},
   "outputs": [
    {
     "name": "stdout",
     "output_type": "stream",
     "text": [
      "/Users/pauljacobson/Git/Learn_to_code/google-it-automation-python/Automating Real-World Tasks/Week_04/supplier-data\n",
      "/Users/pauljacobson/Git/Learn_to_code/google-it-automation-python/Automating Real-World Tasks/Week_04/supplier-data/images/001.tiff\n",
      "/Users/pauljacobson/Git/Learn_to_code/google-it-automation-python/Automating Real-World Tasks/Week_04/supplier-data/images/010.tiff\n",
      "/Users/pauljacobson/Git/Learn_to_code/google-it-automation-python/Automating Real-World Tasks/Week_04/supplier-data/images/006.tiff\n",
      "/Users/pauljacobson/Git/Learn_to_code/google-it-automation-python/Automating Real-World Tasks/Week_04/supplier-data/images/007.tiff\n",
      "/Users/pauljacobson/Git/Learn_to_code/google-it-automation-python/Automating Real-World Tasks/Week_04/supplier-data/images/008.tiff\n",
      "/Users/pauljacobson/Git/Learn_to_code/google-it-automation-python/Automating Real-World Tasks/Week_04/supplier-data/images/004.tiff\n",
      "/Users/pauljacobson/Git/Learn_to_code/google-it-automation-python/Automating Real-World Tasks/Week_04/supplier-data/images/005.tiff\n",
      "/Users/pauljacobson/Git/Learn_to_code/google-it-automation-python/Automating Real-World Tasks/Week_04/supplier-data/images/009.tiff\n",
      "/Users/pauljacobson/Git/Learn_to_code/google-it-automation-python/Automating Real-World Tasks/Week_04/supplier-data/images/002.tiff\n",
      "/Users/pauljacobson/Git/Learn_to_code/google-it-automation-python/Automating Real-World Tasks/Week_04/supplier-data/images/003.tiff\n"
     ]
    }
   ],
   "source": [
    "from pathlib import Path\n",
    "import glob\n",
    "\n",
    "current_path = Path.cwd() / \"supplier-data\"\n",
    "print(current_path)\n",
    "\n",
    "images = current_path.glob(\"images/*.tiff\")\n",
    "for image in images:\n",
    "    print(image)"
   ]
  }
 ],
 "metadata": {
  "kernelspec": {
   "display_name": "Python 3.9.12 ('base')",
   "language": "python",
   "name": "python3"
  },
  "language_info": {
   "codemirror_mode": {
    "name": "ipython",
    "version": 3
   },
   "file_extension": ".py",
   "mimetype": "text/x-python",
   "name": "python",
   "nbconvert_exporter": "python",
   "pygments_lexer": "ipython3",
   "version": "3.9.12"
  },
  "orig_nbformat": 4,
  "vscode": {
   "interpreter": {
    "hash": "3d597f4c481aa0f25dceb95d2a0067e73c0966dcbd003d741d821a7208527ecf"
   }
  }
 },
 "nbformat": 4,
 "nbformat_minor": 2
}
